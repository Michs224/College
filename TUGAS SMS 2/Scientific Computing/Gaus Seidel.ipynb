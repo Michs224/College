{
 "cells": [
  {
   "cell_type": "code",
   "execution_count": 17,
   "id": "a3395c7e",
   "metadata": {},
   "outputs": [
    {
     "name": "stdout",
     "output_type": "stream",
     "text": [
      "Matrix is diagonally dominant\n"
     ]
    }
   ],
   "source": [
    "import numpy as np\n",
    "\n",
    "matriks= np.array([[8,3,-3],\n",
    "                  [-2,-8,5],\n",
    "                  [3,5,10]])\n",
    "diag=np.diag(np.abs(matriks))\n",
    "diag_off=np.sum(np.abs(matriks),axis=1)-diag\n",
    "\n",
    "\n",
    "np.sum(np.abs(matriks),axis=0),np.sum(np.abs(matriks),axis=1)\n",
    "\n",
    "if np.all (diag > diag_off):\n",
    "    print(\"Matrix is diagonally dominant\")\n",
    "else:\n",
    "    print(\"NOT diagonally dominant\")\n",
    "    "
   ]
  },
  {
   "cell_type": "code",
   "execution_count": 19,
   "id": "eac301f3",
   "metadata": {},
   "outputs": [
    {
     "name": "stdout",
     "output_type": "stream",
     "text": [
      "1 [1.75 0.   0.  ] [100.  nan  nan]\n",
      "1 [ 1.75   -1.0625  0.    ] [  0. 100.  nan]\n",
      "1 [ 1.75    -1.0625  -0.79375] [  0.   0. 100.]\n",
      "2 [ 1.85078125 -1.0625     -0.79375   ] [5.44533558 0.         0.        ]\n",
      "2 [ 1.85078125 -1.58378906 -0.79375   ] [ 0.         32.91404612  0.        ]\n",
      "2 [ 1.85078125 -1.58378906 -0.56333984] [ 0.          0.         40.90073848]\n",
      "3 [ 2.13266846 -1.58378906 -0.56333984] [13.21758223  0.          0.        ]\n",
      "3 [ 2.13266846 -1.51025452 -0.56333984] [0.         4.86901678 0.        ]\n",
      "3 [ 2.13266846 -1.51025452 -0.68467328] [ 0.         0.        17.7213627]\n",
      "4 [ 2.05959296 -1.51025452 -0.68467328] [3.54805508 0.         0.        ]\n",
      "4 [ 2.05959296 -1.56781904 -0.68467328] [0.        3.6716306 0.       ]\n",
      "4 [ 2.05959296 -1.56781904 -0.63396837] [0.         0.         7.99801886]\n",
      "5 [ 2.100194   -1.56781904 -0.63396837] [1.93320415 0.         0.        ]\n",
      "5 [ 2.100194   -1.54627873 -0.63396837] [0.         1.39304181 0.        ]\n",
      "5 [ 2.100194   -1.54627873 -0.65691883] [0.         0.         3.49365319]\n",
      "6 [ 2.08350996 -1.54627873 -0.65691883] [0.80076606 0.         0.        ]\n",
      "6 [ 2.08350996 -1.55645176 -0.65691883] [0.       0.653604 0.      ]\n",
      "6 [ 2.08350996 -1.55645176 -0.64682711] [0.         0.         1.56018936]\n",
      "7 [ 2.09110925 -1.55645176 -0.64682711] [0.36340925 0.         0.        ]\n",
      "7 [ 2.09110925 -1.55204425 -0.64682711] [0.         0.28398086 0.        ]\n",
      "7 [ 2.09110925 -1.55204425 -0.65131065] [0.         0.         0.68838729]\n",
      "8 [ 2.0877751  -1.55204425 -0.65131065] [0.15969839 0.         0.        ]\n",
      "8 [ 2.0877751  -1.55401293 -0.65131065] [0.         0.12668341 0.        ]\n",
      "8 [ 2.0877751  -1.55401293 -0.64932607] [0.         0.         0.30563708]\n",
      "9 [ 2.08925757 -1.55401293 -0.64932607] [0.07095686 0.         0.        ]\n",
      "9 [ 2.08925757 -1.55314318 -0.64932607] [0.         0.05599904 0.        ]\n",
      "9 [ 2.08925757 -1.55314318 -0.65020568] [0.         0.         0.13528245]\n",
      "10 [ 2.08860156 -1.55314318 -0.65020568] [0.03140905 0.         0.        ]\n",
      "10 [ 2.08860156 -1.55352894 -0.65020568] [0.         0.02483098 0.        ]\n",
      "10 [ 2.08860156 -1.55352894 -0.649816  ] [0.         0.         0.05996792]\n"
     ]
    },
    {
     "name": "stderr",
     "output_type": "stream",
     "text": [
      "<ipython-input-19-98c431f7aa54>:18: RuntimeWarning: invalid value encountered in true_divide\n",
      "  error=np.abs((x-x_old)/x)*100\n"
     ]
    }
   ],
   "source": [
    "# x1=0\n",
    "# x2=0\n",
    "# x3=0\n",
    "# x1,x2,x3=0,0,0\n",
    "x=np.array([0.0,0.0,0.0])\n",
    "epsilon=0.01\n",
    "not_converged=True\n",
    "\n",
    "x_old=np.array([0.0,0.0,0.0])\n",
    "b=np.array([14,5,-8])\n",
    "\n",
    "# while(not_converged):\n",
    "for i in range(10):\n",
    "    for j in range (len(x)):\n",
    "        temp_a=[matriks[j,k] for k in range(len(x)) if k!= j]\n",
    "        temp_x=[x[k] for k in range(len(x)) if k!= j]\n",
    "        x[j]=(b[j]-np.dot(temp_a,temp_x))/matriks[j,j]\n",
    "        error=np.abs((x-x_old)/x)*100\n",
    "        if np.max(error)<epsilon:\n",
    "            not_converged=False\n",
    "            print(np.max(error),epsilon)\n",
    "\n",
    "        x_old=np.array([x[0],x[1],x[2]])\n",
    "        print(i+1,x,error)"
   ]
  },
  {
   "cell_type": "code",
   "execution_count": null,
   "id": "50552861",
   "metadata": {},
   "outputs": [],
   "source": []
  },
  {
   "cell_type": "code",
   "execution_count": null,
   "id": "016999b0",
   "metadata": {},
   "outputs": [],
   "source": []
  }
 ],
 "metadata": {
  "kernelspec": {
   "display_name": "Python 3",
   "language": "python",
   "name": "python3"
  },
  "language_info": {
   "codemirror_mode": {
    "name": "ipython",
    "version": 3
   },
   "file_extension": ".py",
   "mimetype": "text/x-python",
   "name": "python",
   "nbconvert_exporter": "python",
   "pygments_lexer": "ipython3",
   "version": "3.8.8"
  }
 },
 "nbformat": 4,
 "nbformat_minor": 5
}
