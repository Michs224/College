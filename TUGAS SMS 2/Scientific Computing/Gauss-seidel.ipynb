{
 "cells": [
  {
   "cell_type": "code",
   "execution_count": 26,
   "id": "8634da23",
   "metadata": {},
   "outputs": [],
   "source": [
    "import numpy as np"
   ]
  },
  {
   "cell_type": "code",
   "execution_count": 27,
   "id": "c2fb72da",
   "metadata": {},
   "outputs": [],
   "source": [
    "a = np.array([[8, 3, -3],\n",
    "              [-2, -8, 5],\n",
    "              [3, 5, 10]])"
   ]
  },
  {
   "cell_type": "code",
   "execution_count": 28,
   "id": "158d511b",
   "metadata": {},
   "outputs": [
    {
     "name": "stdout",
     "output_type": "stream",
     "text": [
      "Diagonal dominance\n"
     ]
    }
   ],
   "source": [
    "diag = np.diag(np.abs(a))\n",
    "diag_off = np.sum(np.abs(a),axis=1) - diag\n",
    "\n",
    "\n",
    "if np.all(diag > diag_off):\n",
    "    print(\"Diagonal dominance\")\n",
    "else:\n",
    "    print(\"not diagonal dominance\")\n",
    "    "
   ]
  },
  {
   "cell_type": "markdown",
   "id": "f7ed30ad",
   "metadata": {},
   "source": [
    "Gauss-seidel"
   ]
  },
  {
   "cell_type": "code",
   "execution_count": 41,
   "id": "4d6dab4e",
   "metadata": {
    "scrolled": true
   },
   "outputs": [
    {
     "name": "stdout",
     "output_type": "stream",
     "text": [
      "1 [ 1.75    -1.0625  -0.79375] [100. 100. 100.]\n",
      "2 [ 1.85078125 -1.58378906 -0.56333984] [ 5.44533558 32.91404612 40.90073848]\n",
      "3 [ 2.13266846 -1.51025452 -0.68467328] [13.21758223  4.86901678 17.7213627 ]\n",
      "4 [ 2.05959296 -1.56781904 -0.63396837] [3.54805508 3.6716306  7.99801886]\n",
      "5 [ 2.100194   -1.54627873 -0.65691883] [1.93320415 1.39304181 3.49365319]\n",
      "6 [ 2.08350996 -1.55645176 -0.64682711] [0.80076606 0.653604   1.56018936]\n",
      "7 [ 2.09110925 -1.55204425 -0.65131065] [0.36340925 0.28398086 0.68838729]\n",
      "8 [ 2.0877751  -1.55401293 -0.64932607] [0.15969839 0.12668341 0.30563708]\n",
      "9 [ 2.08925757 -1.55314318 -0.65020568] [0.07095686 0.05599904 0.13528245]\n",
      "10 [ 2.08860156 -1.55352894 -0.649816  ] [0.03140905 0.02483098 0.05996792]\n"
     ]
    }
   ],
   "source": [
    "x = np.array([0.0,0.0,0.0]).astype('float')\n",
    "epsilon = 0.01\n",
    "x_old = np.array([0.0,0.0,0.0]).astype('float')\n",
    "\n",
    "b = np.array([14,5,-8])\n",
    "not_converged = True\n",
    "\n",
    "for i in range(10):\n",
    "    for j in range(len(x)):\n",
    "        temp_a = [a[j,k] for k in range(len(x)) if k != j]\n",
    "        temp_x = [x[k] for k in range(len(x)) if k != j]\n",
    "        x[j] = (b[j] - np.dot(temp_a,temp_x))/a[j,j]\n",
    "    \n",
    "    error = np.abs((x-x_old)/x)*100\n",
    "    if np.max(error) < epsilon:\n",
    "        not_converged = False\n",
    "        break\n",
    "    x_old = np.array([x[0],x[1],x[2]])\n",
    "    print(i+1,x,error)"
   ]
  }
 ],
 "metadata": {
  "kernelspec": {
   "display_name": "Python 3",
   "language": "python",
   "name": "python3"
  },
  "language_info": {
   "codemirror_mode": {
    "name": "ipython",
    "version": 3
   },
   "file_extension": ".py",
   "mimetype": "text/x-python",
   "name": "python",
   "nbconvert_exporter": "python",
   "pygments_lexer": "ipython3",
   "version": "3.8.8"
  }
 },
 "nbformat": 4,
 "nbformat_minor": 5
}
