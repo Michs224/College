{
 "cells": [
  {
   "cell_type": "markdown",
   "metadata": {
    "id": "rfivwiC42Yoj"
   },
   "source": [
    "### Gauss-Seidel Method\n",
    "The **Gauss-Seidel Method** is a specific iterative method, that is always using the latest estimated value for each elements in $x$. For example, we first assume the initial values for $x_2, x_3, \\cdots, x_n$ (except for $x_1$), and then we can calculate $x_1$. Using the calculated $x_1$ and the rest of the $x$ (except for $x_2$), we can calculate $x_2$. We can continue in the same manner and calculate all the elements in $x$. This will conclude the first iteration. We can see the unique part of Gauss-Seidel method is that we are always using the latest value for calculate the next value in $x$. We can then continue with the iterations until the value converges. Let us use this method to solve the same problem we just solved above. \n",
    "\n",
    "**EXAMPLE:** Solve the following system of linear equations using Gauss-Seidel method, use a pre-defined threshold $\\epsilon = 0.01$. Do remember to check if the converge condition is satisfied or not. \n",
    "\n",
    "\\begin{eqnarray*}\n",
    "8x_1 + 3x_2 - 3x_3 &=& 14 \\\\\n",
    "-2x_1 - 8x_2 + 5x_3 &=& 5 \\\\\n",
    "3x_1 + 5x_2 + 10x_3 & =& -8 \\\\\n",
    "\\end{eqnarray*}"
   ]
  },
  {
   "cell_type": "markdown",
   "metadata": {
    "id": "1W0ELEH9HhId"
   },
   "source": [
    "Soal pertama Diagonally Dominant, bisa Convergent, dan solvable dengan Gauss-Seidel"
   ]
  },
  {
   "cell_type": "code",
   "execution_count": null,
   "metadata": {
    "ExecuteTime": {
     "end_time": "2021-12-03T09:45:46.004639Z",
     "start_time": "2021-12-03T09:45:44.349604Z"
    },
    "colab": {
     "base_uri": "https://localhost:8080/"
    },
    "id": "kQH8nuC2F5yV",
    "outputId": "a277fbb7-bec1-4d5e-bed5-c41b6e0d6ddc"
   },
   "outputs": [
    {
     "name": "stdout",
     "output_type": "stream",
     "text": [
      "matrix is diagonally dominant\n"
     ]
    }
   ],
   "source": [
    "import numpy as np\n",
    "a = [[10, 3, -3], [-2, -8, 5], [3, 5, 10]]\n",
    "\n",
    "# Find diagonal coefficients\n",
    "diag = np.diag(np.abs(a)) \n",
    "\n",
    "# Find row sum without diagonal\n",
    "off_diag = np.sum(np.abs(a), axis=1) - diag \n",
    "\n",
    "if np.all(diag > off_diag):\n",
    "    print('matrix is diagonally dominant')\n",
    "else:\n",
    "    print('NOT diagonally dominant')"
   ]
  },
  {
   "cell_type": "markdown",
   "metadata": {
    "id": "S3HaUpa26hb5"
   },
   "source": [
    "Since it is guaranteed to converge, we can use Gauss-Seidel method to solve it.\n",
    "\n",
    "First, change the equation into solution matrix:\n",
    "8x_1 + 3x_2 - 3x_3 &=& 14 \\\\\n"
   ]
  },
  {
   "cell_type": "code",
   "execution_count": null,
   "metadata": {
    "colab": {
     "base_uri": "https://localhost:8080/"
    },
    "id": "Eo8P52Eyda7g",
    "outputId": "371bfb36-b2d7-4224-f9bb-c53b9229df3f"
   },
   "outputs": [
    {
     "name": "stdout",
     "output_type": "stream",
     "text": [
      "Iteration results\n",
      " k,    x1,    x2,    x3 \n",
      "1, 1.7500, -1.0625, -0.7937\n",
      "2, 1.8508, -1.5838, -0.5633\n",
      "3, 2.1327, -1.5103, -0.6847\n",
      "4, 2.0596, -1.5678, -0.6340\n",
      "5, 2.1002, -1.5463, -0.6569\n",
      "6, 2.0835, -1.5565, -0.6468\n",
      "7, 2.0911, -1.5520, -0.6513\n",
      "8, 2.0878, -1.5540, -0.6493\n",
      "9, 2.0893, -1.5531, -0.6502\n",
      "10, 2.0886, -1.5535, -0.6498\n",
      "Converged!\n"
     ]
    }
   ],
   "source": [
    "x1 = 0\n",
    "x2 = 0\n",
    "x3 = 0\n",
    "epsilon = 0.001\n",
    "converged = False\n",
    "\n",
    "x_old = np.array([x1, x2, x3])\n",
    "\n",
    "print('Iteration results')\n",
    "print(' k,    x1,    x2,    x3 ')\n",
    "for k in range(1, 50):\n",
    "    x1 = (14-3*x2+3*x3)/8\n",
    "    x2 = (5+2*x1-5*x3)/(-8)\n",
    "    x3 = (-8-3*x1-5*x2)/(10)\n",
    "    x = np.array([x1, x2, x3])\n",
    "    # check if it is smaller than threshold\n",
    "    dx = np.sqrt(np.dot(x-x_old, x-x_old))\n",
    "    \n",
    "    print(\"%d, %.4f, %.4f, %.4f\"%(k, x1, x2, x3))\n",
    "    if dx < epsilon:\n",
    "        converged = True\n",
    "        print('Converged!')\n",
    "        break\n",
    "        \n",
    "    # assign the latest x value to the old value\n",
    "    x_old = x\n",
    "\n",
    "if not converged:\n",
    "    print('Not converge, increase the # of iterations')"
   ]
  },
  {
   "cell_type": "markdown",
   "metadata": {
    "id": "rA1t6aql94SX"
   },
   "source": [
    "Soal Kedua Tidak Diagonally Dominant & Tidak Convergent.\n",
    "\n",
    "Contoh persamaan:\n",
    "\n",
    "\\begin{eqnarray*}\n",
    "9x_1 + x_2 - 7x_3 &=& 14 \\\\\n",
    "-2x_1 - x_2 + 5x_3 &=& 5 \\\\\n",
    "3x_1 + 5x_2 + 10x_3 & =& -8 \\\\\n",
    "\\end{eqnarray*}"
   ]
  },
  {
   "cell_type": "code",
   "execution_count": null,
   "metadata": {
    "colab": {
     "base_uri": "https://localhost:8080/"
    },
    "id": "RartjlRHjNYp",
    "outputId": "8703a130-1b55-436b-ce87-868b82010ae3"
   },
   "outputs": [
    {
     "name": "stdout",
     "output_type": "stream",
     "text": [
      "NOT diagonally dominant\n"
     ]
    }
   ],
   "source": [
    "import numpy as np\n",
    "a = [[9, 1, -7], [-2, 1, 5], [3, 5, 1]]\n",
    "\n",
    "# Find diagonal coefficients\n",
    "diag = np.diag(np.abs(a)) \n",
    "\n",
    "# Find row sum without diagonal\n",
    "off_diag = np.sum(np.abs(a), axis=1) - diag \n",
    "\n",
    "if np.all(diag > off_diag):\n",
    "    print('matrix is diagonally dominant')\n",
    "else:\n",
    "    print('NOT diagonally dominant')"
   ]
  },
  {
   "cell_type": "code",
   "execution_count": null,
   "metadata": {
    "colab": {
     "base_uri": "https://localhost:8080/"
    },
    "id": "6k-1xDZJjUGx",
    "outputId": "4aa0d01f-a480-4886-e4d8-0c3d8a844d7d"
   },
   "outputs": [
    {
     "name": "stdout",
     "output_type": "stream",
     "text": [
      "Iteration results\n",
      " k,    x1,    x2,    x3 \n",
      "1, 1.5556, 8.1111, -53.2222\n",
      "2, -40.7407, 189.6296, -833.9259\n",
      "3, -668.1235, 2838.3827, -12195.5432\n",
      "4, -9799.2428, 41384.2305, -177531.4239\n",
      "5, -142676.6886, 602308.7421, -2583521.6447\n",
      "6, -2076327.3617, 8764958.5002, -37595818.4161\n",
      "7, -30215074.8237, 127548947.4332, -547099520.6949\n",
      "8, -439693953.1441, 1856109702.1860, -7961466659.4978\n",
      "9, -6398486256.0745, 27010360790.3401, -115856345191.4769\n",
      "10, -93111641901.8531, 393058442158.6780, -1685957285095.8306\n",
      "11, -1354973270868.3879, 5719839883747.3770, -24534279606139.7188\n",
      "12, -19717755236301.2656, 83235887558101.0625, -357026172081609.5000\n",
      "13, -286935454681039.2500, 1211259951045974.0000, -5195493391186760.0000\n",
      "14, -4175523743261475.5000, 17626419469410854.0000, -75605526117269856.0000\n",
      "15, -60762789143366640.0000, 256502052299616032.0000, -1100221894067980288.0000\n",
      "16, -884228367863942016.0000, 3732652734612017152.0000, -16010578569468260352.0000\n",
      "17, -12867411413432203264.0000, 54318070020476895232.0000, -232988115862087860224.0000\n",
      "18, -187248320117232467968.0000, 790443939075974234112.0000, -3390474735028173537280.0000\n",
      "19, -2724863009363687636992.0000, 11502647656413493460992.0000, -49338649253976408588288.0000\n",
      "20, -39652576937138699894784.0000, 167388092395604651540480.0000, -717982731166607107686400.0000\n",
      "21, -577029690062428222521344.0000, 2435854275708179093389312.0000, -10448182308353612678430720.0000\n",
      "22, -8397014492687052579012608.0000, 35446882556393953939161088.0000, -152043369303908620548702208.0000\n",
      "23, -122194496409306029268926464.0000, 515827853700930975486181376.0000, -2212555779276736995782557696.0000\n",
      "24, -1778190923182010131434962944.0000, 7506397050019665540676583424.0000, -32197412480552295934688493568.0000\n",
      "25, -25876476045987303631716614144.0000, 109234110310786859215869706240.0000, -468541123415972376388105666560.0000\n",
      "26, -376557997135843766505876488192.0000, 1589589622808174419297519534080.0000, -6818274122633340234020014784512.0000\n",
      "27, -5479723164582395180043064049664.0000, 23131924284001910810013945823232.0000, -99220451926262380894839512236032.0000\n",
      "28, -79741676418648726782788168056832.0000, 336618906794014396865425696620544.0000, -1443869504714125704899572176781312.0000\n",
      "29, -1160411715532543654445616686170112.0000, 4898524092505541792067379814989824.0000, -21011385315930075691157039802744832.0000\n",
      "30, -16886469033779563770667740849766400.0000, 71283988512091255526135735741579264.0000, -305760535459117623212163603577700352.0000\n",
      "31, -245734192969546052270814263456563200.0000, 1037334291356495974625701343556272128.0000, -4449468877873842085250945401602703360.0000\n",
      "32, -3575957381830376812139120233684140032.0000, 15095429625708454440793245105822629888.0000, -64749275983051144719027916621588987904.0000\n",
      "33, -52037817945229605398280303330929410048.0000, 219670744024796484464380079228214837248.0000, -942240266288293615571792451887576383488.0000\n",
      "34, -757261400893650132111557492791851352064.0000, 3196678529654167360288664918368238698496.0000, -13711608445589886556224379565294286274560.0000\n",
      "35, -11019770849864819787729177814882771271680.0000, 46518500528219795623515181425964238241792.0000, -199533190091504494575871981392589383270400.0000\n",
      "36, -160361203463194585258447289787902590976000.0000, 676943543531133341048091555055275324997632.0000, -2903634107266083162236060158087403600347136.0000\n",
      "37, -2333598032710412658808384839437972989280256.0000, 9850974470909591731503570396941346922299392.0000, -42254078256416721609547726930428021817999360.0000\n",
      "38, -33958835807314067317792942260947694741618688.0000, 143352719667455483315673064413286918799753216.0000, -614887090915335234432027123849675908159897600.0000\n",
      "39, -494173595119422449456855601899631186930565120.0000, 2086088264337831035561936872656104386306506752.0000, -8947920536330888304808092643167653932004540416.0000\n",
      "40, -7191281335406005357608959467073070087534542848.0000, 30357040010842428273521343825233326491547205632.0000, -130211356047994120224177439812029816208319578112.0000\n",
      "41, -104648503594089025475327135022900132450586853376.0000, 441759773051792529887823325362678392193172897792.0000, -1894853354476695775837231258261395803086616788992.0000\n",
      "42, -1522859250487629262932959356247317499193835126784.0000, 6428548271408220353320237578812344017045413691392.0000, -27574163605578217872024953726440488985517809991680.0000\n",
      "43, -22160854834495081963227736206850480457769509978112.0000, 93549108358900925433669296218501484012050030002176.0000, -401262977291019443586225574889887521052897570717696.0000\n",
      "44, -322487772155115218692187335336642509890708563820544.0000, 1361339342144866614393253730661668472507188190904320.0000, -5839233394258987914350205066641867171791462868189184.0000\n",
      "45, -4692885900217530781137745000413357253974550246326272.0000, 19810395170859878674089533224840557802911743988465664.0000, -84973318153646784411684483811514305955046815699042304.0000\n",
      "46, -68291513582931931132189431798307520302077326236057600.0000, 288283563602370038526395622902302522710166461537583104.0000, -1236543277263054399235409819116590052644600328979742720.0000\n",
      "47, -993787389382638924750079330590081966240050846304829440.0000, 4195141607549994827241624276279713257492114815825477632.0000, -17994345869602054469557764561651380950056258370183102464.0000\n",
      "48, -14461729188307153960228027777124039653597214610735235072.0000, 61048270971395958982814896518993410029093143721153658880.0000, -261856167292058343922426140733625762012661512590145355776.0000\n",
      "49, -210449049112867161505787090379402265637958137153870364672.0000, 888382738234557396600556522909324278787391288642986049536.0000, -3810566543834185672709993206928907890270881036818643419136.0000\n",
      "Not converge, increase the # of iterations\n"
     ]
    }
   ],
   "source": [
    "x1 = 0\n",
    "x2 = 0\n",
    "x3 = 0\n",
    "epsilon = 0.01\n",
    "converged = False\n",
    "\n",
    "x_old = np.array([x1, x2, x3])\n",
    "\n",
    "print('Iteration results')\n",
    "print(' k,    x1,    x2,    x3 ')\n",
    "for k in range(1, 50):\n",
    "    x1 = (14-1*x2+7*x3)/(9)\n",
    "    x2 = (5+2*x1-5*x3)/(1)\n",
    "    x3 = (-8-3*x1-5*x2)/(1)\n",
    "    x = np.array([x1, x2, x3])\n",
    "    # check if it is smaller than threshold\n",
    "    dx = np.sqrt(np.dot(x-x_old, x-x_old))\n",
    "    \n",
    "    print(\"%d, %.4f, %.4f, %.4f\"%(k, x1, x2, x3))\n",
    "    if dx < epsilon:\n",
    "        converged = True\n",
    "        print('Converged!')\n",
    "        break\n",
    "        \n",
    "    # assign the latest x value to the old value\n",
    "    x_old = x\n",
    "\n",
    "if not converged:\n",
    "    print('Not converge, increase the # of iterations')"
   ]
  },
  {
   "cell_type": "markdown",
   "metadata": {
    "id": "hb0jNxCE9khk"
   },
   "source": [
    "Soal Ketiga Diagonally Tidak Dominant tapi terkadang bisa Convergent.\n",
    "\n",
    "Contoh persamaan:\n",
    "\n",
    "\\begin{eqnarray*}\n",
    "9x_1 + 10x_2 - 7x_3 &=& 14 \\\\\n",
    "-2x_1 - 8x_2 + 5x_3 &=& 5 \\\\\n",
    "3x_1 + 5x_2 + 10x_3 & =& -8 \\\\\n",
    "\\end{eqnarray*}"
   ]
  },
  {
   "cell_type": "code",
   "execution_count": null,
   "metadata": {
    "colab": {
     "base_uri": "https://localhost:8080/"
    },
    "id": "w5ajEVvIhWvj",
    "outputId": "6286c686-2a92-48b9-80d9-cd97ce71ec47"
   },
   "outputs": [
    {
     "name": "stdout",
     "output_type": "stream",
     "text": [
      "NOT diagonally dominant\n"
     ]
    }
   ],
   "source": [
    "import numpy as np\n",
    "a = [[9, 10, -7], [-2, 8, 5], [3, 5, 10]]\n",
    "\n",
    "# Find diagonal coefficients\n",
    "diag = np.diag(np.abs(a)) \n",
    "\n",
    "# Find row sum without diagonal\n",
    "off_diag = np.sum(np.abs(a), axis=1) - diag \n",
    "\n",
    "if np.all(diag > off_diag):\n",
    "    print('matrix is diagonally dominant')\n",
    "else:\n",
    "    print('NOT diagonally dominant')"
   ]
  },
  {
   "cell_type": "code",
   "execution_count": null,
   "metadata": {
    "colab": {
     "base_uri": "https://localhost:8080/"
    },
    "id": "DKbQXUWThjsC",
    "outputId": "6063fb53-6f4f-4ce5-d694-272ba16818b0"
   },
   "outputs": [
    {
     "name": "stdout",
     "output_type": "stream",
     "text": [
      "Iteration results\n",
      " k,    x1,    x2,    x3 \n",
      "1, 1.5556, 1.0139, -1.7736\n",
      "2, -0.9505, 1.4959, -1.2628\n",
      "3, -1.0887, 1.1421, -1.0444\n",
      "4, -0.5257, 1.1463, -1.2154\n",
      "5, -0.6635, 1.2188, -1.2103\n",
      "6, -0.7400, 1.1965, -1.1762\n",
      "7, -0.6887, 1.1880, -1.1874\n",
      "8, -0.6879, 1.1951, -1.1912\n",
      "Converged!\n"
     ]
    }
   ],
   "source": [
    "x1 = 0\n",
    "x2 = 0\n",
    "x3 = 0\n",
    "epsilon = 0.01\n",
    "converged = False\n",
    "\n",
    "x_old = np.array([x1, x2, x3])\n",
    "\n",
    "print('Iteration results')\n",
    "print(' k,    x1,    x2,    x3 ')\n",
    "for k in range(1, 50):\n",
    "    x1 = (14-10*x2+7*x3)/9\n",
    "    x2 = (5+2*x1-5*x3)/(8)\n",
    "    x3 = (-8-3*x1-5*x2)/(10)\n",
    "    x = np.array([x1, x2, x3])\n",
    "    # check if it is smaller than threshold\n",
    "    dx = np.sqrt(np.dot(x-x_old, x-x_old))\n",
    "    \n",
    "    print(\"%d, %.4f, %.4f, %.4f\"%(k, x1, x2, x3))\n",
    "    if dx < epsilon:\n",
    "        converged = True\n",
    "        print('Converged!')\n",
    "        break\n",
    "        \n",
    "    # assign the latest x value to the old value\n",
    "    x_old = x\n",
    "\n",
    "if not converged:\n",
    "    print('Not converge, increase the # of iterations')"
   ]
  },
  {
   "cell_type": "markdown",
   "metadata": {
    "id": "lZM5Gcv--ZM5"
   },
   "source": [
    "Library Linear Algebra Solver"
   ]
  },
  {
   "cell_type": "markdown",
   "metadata": {
    "id": "Rwe0xxUe7AhC"
   },
   "source": [
    "Menggunakan np.linalg.solve"
   ]
  },
  {
   "cell_type": "code",
   "execution_count": null,
   "metadata": {
    "colab": {
     "base_uri": "https://localhost:8080/"
    },
    "id": "qgJeFBwt2I1C",
    "outputId": "0740b9c7-f825-40b0-bfb6-117fffe3e495"
   },
   "outputs": [
    {
     "name": "stdout",
     "output_type": "stream",
     "text": [
      "[ 2.20833333 -2.58333333 -0.18333333]\n"
     ]
    }
   ],
   "source": [
    "import numpy as np\n",
    "\n",
    "A = np.array([[4, 3, -5], \n",
    "              [-2, -4, 5], \n",
    "              [8, 8, 0]])\n",
    "y = np.array([2, 5, -3])\n",
    "\n",
    "x = np.linalg.solve(A, y)\n",
    "print(x)"
   ]
  },
  {
   "cell_type": "markdown",
   "metadata": {
    "id": "riqXIP9t67X4"
   },
   "source": [
    "Menggunakan Pendekatan Matriks *Inverse*"
   ]
  },
  {
   "cell_type": "code",
   "execution_count": null,
   "metadata": {
    "colab": {
     "base_uri": "https://localhost:8080/"
    },
    "id": "p1vHhJ0_4Dt3",
    "outputId": "7f202e88-6489-41e7-d499-623a8edd1438"
   },
   "outputs": [
    {
     "name": "stdout",
     "output_type": "stream",
     "text": [
      "[ 2.20833333 -2.58333333 -0.18333333]\n"
     ]
    }
   ],
   "source": [
    "A_inv = np.linalg.inv(A)\n",
    "\n",
    "x = np.dot(A_inv, y)\n",
    "print(x)"
   ]
  },
  {
   "cell_type": "markdown",
   "metadata": {
    "id": "-k4-OyZhaSJF"
   },
   "source": [
    "### Least-Square Linier Regression"
   ]
  },
  {
   "cell_type": "code",
   "execution_count": null,
   "metadata": {
    "colab": {
     "base_uri": "https://localhost:8080/"
    },
    "id": "hbO_SZ3DCSKi",
    "outputId": "1ad2b77a-feb3-4dfa-aa34-18b9dab2f431"
   },
   "outputs": [
    {
     "name": "stdout",
     "output_type": "stream",
     "text": [
      "[[1.49499389]\n",
      " [0.99316105]]\n"
     ]
    }
   ],
   "source": [
    "import numpy as np\n",
    "from scipy import optimize\n",
    "import matplotlib.pyplot as plt\n",
    "\n",
    "plt.style.use('seaborn-poster')\n",
    "\n",
    "# generate x and y\n",
    "x = np.linspace(0, 1, 101)\n",
    "y = 1 + x + x * np.random.random(len(x))\n",
    "\n",
    "# assemble matrix A\n",
    "A = np.vstack([x, np.ones(len(x))]).T\n",
    "\n",
    "# turn y into a column vector\n",
    "y = y[:, np.newaxis]\n",
    "\n",
    "# Direct least square regression\n",
    "alpha = np.dot((np.dot(np.linalg.inv(np.dot(A.T,A)),A.T)),y)\n",
    "print(alpha)"
   ]
  },
  {
   "cell_type": "code",
   "execution_count": null,
   "metadata": {
    "colab": {
     "base_uri": "https://localhost:8080/",
     "height": 517
    },
    "id": "U_Q88XZ8CS61",
    "outputId": "dbf37410-f5c4-43ff-8f23-627d5dd9fa25"
   },
   "outputs": [
    {
     "data": {
      "image/png": "[encoded data removed]",
      "text/plain": [
       "<Figure size 720x576 with 1 Axes>"
      ]
     },
     "metadata": {
      "needs_background": "light"
     },
     "output_type": "display_data"
    }
   ],
   "source": [
    "# plot the results\n",
    "plt.figure(figsize = (10,8))\n",
    "plt.plot(x, y, 'b.')\n",
    "plt.plot(x, alpha[0]*x + alpha[1], 'r')\n",
    "plt.xlabel('x')\n",
    "plt.ylabel('y')\n",
    "plt.show()"
   ]
  },
  {
   "cell_type": "markdown",
   "metadata": {
    "id": "1CzrnL-v1LS1"
   },
   "source": [
    "Use np.linalg.pinv to find Linier Regression"
   ]
  },
  {
   "cell_type": "code",
   "execution_count": null,
   "metadata": {
    "colab": {
     "base_uri": "https://localhost:8080/"
    },
    "id": "J2SXBpLCCZZO",
    "outputId": "b6b8a125-fdb9-41a7-deff-a2bccb0dfb65"
   },
   "outputs": [
    {
     "name": "stdout",
     "output_type": "stream",
     "text": [
      "[[1.49499389]\n",
      " [0.99316105]]\n"
     ]
    }
   ],
   "source": [
    "pinv = np.linalg.pinv(A)\n",
    "alpha = pinv.dot(y)\n",
    "print(alpha)"
   ]
  },
  {
   "cell_type": "markdown",
   "metadata": {
    "id": "Q7q9D3Np1bTF"
   },
   "source": [
    "Use np.linalg to find Linier Regression"
   ]
  },
  {
   "cell_type": "code",
   "execution_count": null,
   "metadata": {
    "colab": {
     "base_uri": "https://localhost:8080/"
    },
    "id": "Z2qt6_YGCbQ3",
    "outputId": "fbadc6d3-a825-4885-d9a3-d83526d6b858"
   },
   "outputs": [
    {
     "name": "stdout",
     "output_type": "stream",
     "text": [
      "[[1.49499389]\n",
      " [0.99316105]]\n"
     ]
    }
   ],
   "source": [
    "alpha = np.linalg.lstsq(A, y, rcond=None)[0]\n",
    "print(alpha)"
   ]
  },
  {
   "cell_type": "markdown",
   "metadata": {
    "id": "EUdg80771gAK"
   },
   "source": [
    "use optimize.curve_fit"
   ]
  },
  {
   "cell_type": "code",
   "execution_count": null,
   "metadata": {
    "colab": {
     "base_uri": "https://localhost:8080/"
    },
    "id": "cgklGlmyClLy",
    "outputId": "b40622c1-b639-41b6-e9e0-933f7cb68c1a"
   },
   "outputs": [
    {
     "name": "stdout",
     "output_type": "stream",
     "text": [
      "[1.49913451 0.98910921]\n"
     ]
    }
   ],
   "source": [
    "# generate x and y\n",
    "x = np.linspace(0, 1, 101)\n",
    "y = 1 + x + x * np.random.random(len(x))\n",
    "\n",
    "def func(x, a, b):\n",
    "    y = a*x + b\n",
    "    return y\n",
    "\n",
    "alpha = optimize.curve_fit(func, xdata = x, ydata = y)[0]\n",
    "print(alpha)\n",
    "\n",
    "# plot the results\n",
    "plt.figure(figsize = (10,8))\n",
    "plt.plot(x, y, 'b.')\n",
    "plt.plot(x, alpha[0]*x + alpha[1], 'r')\n",
    "plt.xlabel('x')\n",
    "plt.ylabel('y')\n",
    "plt.show()"
   ]
  },
  {
   "cell_type": "markdown",
   "metadata": {
    "id": "QYOTTQWV48PJ"
   },
   "source": [
    "### Plotting Using Matplotlib"
   ]
  },
  {
   "cell_type": "code",
   "execution_count": null,
   "metadata": {
    "id": "PE4txjIA5F4g"
   },
   "outputs": [],
   "source": [
    "import matplotlib.pyplot as plt"
   ]
  },
  {
   "cell_type": "code",
   "execution_count": null,
   "metadata": {
    "id": "UkEytm-p5HjG"
   },
   "outputs": [],
   "source": [
    "import pandas as pd"
   ]
  },
  {
   "cell_type": "code",
   "execution_count": null,
   "metadata": {
    "colab": {
     "base_uri": "https://localhost:8080/",
     "height": 265
    },
    "id": "Dkkbe16D5Qh4",
    "outputId": "448dae98-41a8-431c-fa93-2eb7afbfda41"
   },
   "outputs": [
    {
     "data": {
      "image/png": "[encoded data removed]",
      "text/plain": [
       "<Figure size 432x288 with 1 Axes>"
      ]
     },
     "metadata": {
      "needs_background": "light"
     },
     "output_type": "display_data"
    }
   ],
   "source": [
    "ts = pd.Series(np.random.randn(5000), index=pd.date_range(\"1/1/2000\", periods=5000))\n",
    "\n",
    "ts = ts.cumsum()\n",
    "\n",
    "ts.plot();"
   ]
  },
  {
   "cell_type": "code",
   "execution_count": null,
   "metadata": {
    "colab": {
     "base_uri": "https://localhost:8080/",
     "height": 295
    },
    "id": "Yxni7GOa49wD",
    "outputId": "eb436e00-e4f5-4dd6-b002-9e457421492c"
   },
   "outputs": [
    {
     "data": {
      "text/plain": [
       "<Figure size 432x288 with 0 Axes>"
      ]
     },
     "metadata": {},
     "output_type": "display_data"
    },
    {
     "data": {
      "image/png": "[encoded data removed]",
      "text/plain": [
       "<Figure size 432x288 with 1 Axes>"
      ]
     },
     "metadata": {
      "needs_background": "light"
     },
     "output_type": "display_data"
    }
   ],
   "source": [
    "df = pd.DataFrame(np.random.randn(1000, 4), index=ts.index, columns=list(\"ABCD\"))\n",
    "\n",
    "df = df.cumsum()\n",
    "\n",
    "plt.figure();\n",
    "\n",
    "df.plot();"
   ]
  },
  {
   "cell_type": "code",
   "execution_count": null,
   "metadata": {
    "id": "Azom9xs_51t5"
   },
   "outputs": [],
   "source": [
    "import numpy as np\n",
    "import matplotlib.pyplot as plt"
   ]
  },
  {
   "cell_type": "code",
   "execution_count": null,
   "metadata": {
    "colab": {
     "base_uri": "https://localhost:8080/",
     "height": 265
    },
    "id": "VHG34-hT53Gs",
    "outputId": "6004eaf4-7a9f-4203-f9e6-202c01e48c4d"
   },
   "outputs": [
    {
     "data": {
      "image/png": "[encoded data removed]",
      "text/plain": [
       "<Figure size 432x288 with 1 Axes>"
      ]
     },
     "metadata": {
      "needs_background": "light"
     },
     "output_type": "display_data"
    }
   ],
   "source": [
    "x = [0, 1, 2, 3] \n",
    "y = [0, 1, 4, 9]\n",
    "plt.plot(x, y)\n",
    "plt.show()"
   ]
  }
 ],
 "metadata": {
  "colab": {
   "collapsed_sections": [
    "-k4-OyZhaSJF"
   ],
   "name": "Lab 2 MATH6183 - Copy.ipynb",
   "provenance": []
  },
  "kernelspec": {
   "display_name": "Python 3",
   "language": "python",
   "name": "python3"
  },
  "language_info": {
   "codemirror_mode": {
    "name": "ipython",
    "version": 3
   },
   "file_extension": ".py",
   "mimetype": "text/x-python",
   "name": "python",
   "nbconvert_exporter": "python",
   "pygments_lexer": "ipython3",
   "version": "3.7.4"
  },
  "toc": {
   "base_numbering": 1,
   "nav_menu": {},
   "number_sections": true,
   "sideBar": true,
   "skip_h1_title": false,
   "title_cell": "Table of Contents",
   "title_sidebar": "Contents",
   "toc_cell": false,
   "toc_position": {},
   "toc_section_display": true,
   "toc_window_display": false
  }
 },
 "nbformat": 4,
 "nbformat_minor": 1
}
